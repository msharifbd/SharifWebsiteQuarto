{
  "cells": [
    {
      "cell_type": "raw",
      "metadata": {},
      "source": [
        "---\n",
        "title: Auditing & Assurance Services\n",
        "description: How do the Auditors Work?\n",
        "---"
      ],
      "id": "27b360d3"
    },
    {
      "cell_type": "markdown",
      "metadata": {},
      "source": [
        "```{r}\n",
        "#| include: false\n",
        "\n",
        "library(reticulate)\n",
        "# Use Python below does not work \n",
        "#use_python(\"C:\\\\Users\\\\mshar\\\\AppData\\\\Local\\\\Programs\\\\Python\\\\Python311\\\\python.exe\")\n",
        "Sys.setenv(\"RETICULATE_PYTHON\" = \"C:\\\\Users\\\\mshar\\\\AppData\\\\Local\\\\Programs\\\\Python\\\\Python311\\\\python.exe\")\n",
        "py_config()\n",
        "```\n",
        "\n",
        "\n",
        "\n",
        "# Introduction \n"
      ],
      "id": "aa8d4e1c"
    },
    {
      "cell_type": "code",
      "metadata": {},
      "source": [
        "import matplotlib.pyplot as plt \n",
        "import seaborn as sns\n",
        "\n",
        "import sklearn"
      ],
      "id": "73c78a8a",
      "execution_count": null,
      "outputs": []
    },
    {
      "cell_type": "code",
      "metadata": {},
      "source": [
        "import os"
      ],
      "id": "84270a33",
      "execution_count": null,
      "outputs": []
    },
    {
      "cell_type": "markdown",
      "metadata": {},
      "source": [
        "# Course Syllabus "
      ],
      "id": "31f76f26"
    }
  ],
  "metadata": {
    "kernelspec": {
      "name": "python3",
      "language": "python",
      "display_name": "Python 3 (ipykernel)"
    }
  },
  "nbformat": 4,
  "nbformat_minor": 5
}