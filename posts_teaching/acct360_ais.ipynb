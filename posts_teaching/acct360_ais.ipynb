{
  "cells": [
    {
      "cell_type": "raw",
      "metadata": {},
      "source": [
        "---\n",
        "title: Accounting Information Systems\n",
        "description: How does the AIS Work?\n",
        "---"
      ],
      "id": "3b748c94"
    },
    {
      "cell_type": "markdown",
      "metadata": {},
      "source": [
        "# Introduction \n"
      ],
      "id": "36b31ae3"
    },
    {
      "cell_type": "code",
      "metadata": {},
      "source": [
        "import matplotlib.pyplot as plt \n",
        "import seaborn as sns\n",
        "\n",
        "import sklearn"
      ],
      "id": "e881e1c7",
      "execution_count": null,
      "outputs": []
    },
    {
      "cell_type": "code",
      "metadata": {},
      "source": [
        "import os"
      ],
      "id": "958efe0a",
      "execution_count": null,
      "outputs": []
    },
    {
      "cell_type": "markdown",
      "metadata": {},
      "source": [
        "# Course Syllabus "
      ],
      "id": "ab69913f"
    }
  ],
  "metadata": {
    "kernelspec": {
      "name": "python3",
      "language": "python",
      "display_name": "Python 3 (ipykernel)"
    }
  },
  "nbformat": 4,
  "nbformat_minor": 5
}