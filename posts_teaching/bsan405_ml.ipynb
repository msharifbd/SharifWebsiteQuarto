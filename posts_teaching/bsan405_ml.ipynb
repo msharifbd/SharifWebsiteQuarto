{
  "cells": [
    {
      "cell_type": "raw",
      "metadata": {},
      "source": [
        "---\n",
        "title: Machine Learning in Business\n",
        "description: How does Machine Learning Work in Business?\n",
        "---"
      ],
      "id": "627e0a6e"
    },
    {
      "cell_type": "markdown",
      "metadata": {},
      "source": [
        "```{r}\n",
        "#| include: false\n",
        "\n",
        "library(reticulate)\n",
        "# Use Python below does not work \n",
        "#use_python(\"C:\\\\Users\\\\mshar\\\\AppData\\\\Local\\\\Programs\\\\Python\\\\Python311\\\\python.exe\")\n",
        "Sys.setenv(\"RETICULATE_PYTHON\" = \"C:\\\\Users\\\\mshar\\\\AppData\\\\Local\\\\Programs\\\\Python\\\\Python311\\\\python.exe\")\n",
        "py_config()\n",
        "```\n",
        "\n",
        "\n",
        "\n",
        "# Introduction \n"
      ],
      "id": "3febdaba"
    },
    {
      "cell_type": "code",
      "metadata": {},
      "source": [
        "import matplotlib.pyplot as plt \n",
        "import seaborn as sns\n",
        "\n",
        "import sklearn"
      ],
      "id": "75c18b8d",
      "execution_count": null,
      "outputs": []
    },
    {
      "cell_type": "code",
      "metadata": {},
      "source": [
        "import os"
      ],
      "id": "7c03a7b6",
      "execution_count": null,
      "outputs": []
    },
    {
      "cell_type": "markdown",
      "metadata": {},
      "source": [
        "# Course Syllabus "
      ],
      "id": "40728a76"
    }
  ],
  "metadata": {
    "kernelspec": {
      "name": "python3",
      "language": "python",
      "display_name": "Python 3 (ipykernel)"
    }
  },
  "nbformat": 4,
  "nbformat_minor": 5
}